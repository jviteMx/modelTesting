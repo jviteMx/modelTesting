{
 "cells": [
  {
   "cell_type": "code",
   "execution_count": 15,
   "metadata": {},
   "outputs": [
    {
     "name": "stdout",
     "output_type": "stream",
     "text": [
      "forest\n",
      "0.7472559473580954\n",
      "0.7119916787306426\n",
      "0.8347212811399052\n",
      "End of loop\n",
      "forest\n",
      "0.7472559473580954\n",
      "0.7103748181297153\n",
      "0.8332974218924782\n",
      "End of loop\n",
      "forest\n",
      "0.7205846950482844\n",
      "0.725855058623722\n",
      "0.8345598506983191\n",
      "End of loop\n"
     ]
    }
   ],
   "source": [
    "import numpy as np\n",
    "import pandas as pd\n",
    "import seaborn as sn\n",
    "from sklearn.preprocessing import LabelEncoder\n",
    "from sklearn.linear_model import LinearRegression\n",
    "from sklearn.ensemble import RandomForestRegressor\n",
    "from sklearn.tree import DecisionTreeRegressor\n",
    "from sklearn.model_selection import train_test_split, cross_val_score\n",
    "from sklearn.decomposition import PCA\n",
    "from sklearn.preprocessing import StandardScaler\n",
    "from sklearn.model_selection import GridSearchCV\n",
    "import os\n",
    "\n",
    "count = 1\n",
    "for count in range(3):\n",
    "    df = pd.read_csv('https://compute.javiervite.com/modelingData/insurance{}.csv'.format(count))\n",
    "    df['sex_l'] = LabelEncoder().fit_transform(df['sex'])\n",
    "    df['smoker_l'] = LabelEncoder().fit_transform(df['smoker'])\n",
    "    df['region_l'] = LabelEncoder().fit_transform(df['region'])\n",
    "    features = df.drop(['charges','sex','smoker','region'],axis = 1)\n",
    "    target = df.charges\n",
    "    lin_reg = LinearRegression()\n",
    "    forest = RandomForestRegressor()\n",
    "    tree = DecisionTreeRegressor()\n",
    "    select_lineReg=cross_val_score(lin_reg,features,target,cv = 5).mean()\n",
    "    select_forest=cross_val_score(forest,features,target,cv = 5).mean()\n",
    "    select_tree=cross_val_score(tree,features,target,cv = 5).mean()\n",
    "    selected_model= \"\"\n",
    "    if (select_forest>=0.75):\n",
    "        selected_model=\"forest\"\n",
    "        \n",
    "    if (select_lineReg>=0.75 and (select_forest<select_lineReg)):\n",
    "        selected_model=\"linReg\"\n",
    "        \n",
    "    if (select_tree>=0.75 and (select_forest<select_lineReg) and (select_tree<select_forest)and(select_tree<select_lineReg)):\n",
    "        selected_model=\"tree\"\n",
    "        \n",
    "    print(selected_model)\n",
    "    print(cross_val_score(lin_reg,features,target,cv = 5).mean())\n",
    "    print(cross_val_score(tree,features,target,cv = 5).mean())\n",
    "    print(cross_val_score(forest,features,target,cv = 5).mean())\n",
    "    df.shape\n",
    "    count= count+1\n",
    "    print(\"End of loop\")\n"
   ]
  }
 ],
 "metadata": {
  "kernelspec": {
   "display_name": "Python 3",
   "language": "python",
   "name": "python3"
  },
  "language_info": {
   "codemirror_mode": {
    "name": "ipython",
    "version": 3
   },
   "file_extension": ".py",
   "mimetype": "text/x-python",
   "name": "python",
   "nbconvert_exporter": "python",
   "pygments_lexer": "ipython3",
   "version": "3.9.13"
  }
 },
 "nbformat": 4,
 "nbformat_minor": 2
}
