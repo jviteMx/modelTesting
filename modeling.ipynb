{
 "cells": [
  {
   "cell_type": "code",
   "execution_count": 1,
   "metadata": {},
   "outputs": [
    {
     "name": "stdout",
     "output_type": "stream",
     "text": [
      "forest\n",
      "0.7472559473580954\n",
      "0.7178039893634478\n",
      "0.8339435769379282\n"
     ]
    },
    {
     "data": {
      "text/plain": [
       "(1338, 10)"
      ]
     },
     "execution_count": 1,
     "metadata": {},
     "output_type": "execute_result"
    }
   ],
   "source": [
    "import numpy as np\n",
    "import pandas as pd\n",
    "import seaborn as sn\n",
    "from sklearn.preprocessing import LabelEncoder\n",
    "from sklearn.linear_model import LinearRegression\n",
    "from sklearn.ensemble import RandomForestRegressor\n",
    "from sklearn.tree import DecisionTreeRegressor\n",
    "from sklearn.model_selection import train_test_split, cross_val_score\n",
    "from sklearn.decomposition import PCA\n",
    "from sklearn.preprocessing import StandardScaler\n",
    "from sklearn.model_selection import GridSearchCV\n",
    "import os\n",
    "\n",
    "\n",
    "df = pd.read_csv('kaggle\\insurance1.csv')\n",
    "df['sex_l'] = LabelEncoder().fit_transform(df['sex'])\n",
    "df['smoker_l'] = LabelEncoder().fit_transform(df['smoker'])\n",
    "df['region_l'] = LabelEncoder().fit_transform(df['region'])\n",
    "features = df.drop(['charges','sex','smoker','region'],axis = 1)\n",
    "target = df.charges\n",
    "lin_reg = LinearRegression()\n",
    "forest = RandomForestRegressor()\n",
    "tree = DecisionTreeRegressor()\n",
    "select_lineReg=cross_val_score(lin_reg,features,target,cv = 5).mean()\n",
    "select_forest=cross_val_score(forest,features,target,cv = 5).mean()\n",
    "select_tree=cross_val_score(tree,features,target,cv = 5).mean()\n",
    "selected_model= \"\"\n",
    "if (select_forest>=0.75):\n",
    "    selected_model=\"forest\"\n",
    "    \n",
    "if (select_lineReg>=0.75 and (select_forest<select_lineReg)):\n",
    "    selected_model=\"linReg\"\n",
    "    \n",
    "if (select_tree>=0.75 and (select_forest<select_lineReg) and (select_tree<select_forest)and(select_tree<select_lineReg)):\n",
    "    selected_model=\"tree\"\n",
    "       \n",
    "print(selected_model)\n",
    "print(cross_val_score(lin_reg,features,target,cv = 5).mean())\n",
    "print(cross_val_score(tree,features,target,cv = 5).mean())\n",
    "print(cross_val_score(forest,features,target,cv = 5).mean())\n",
    "df.shape"
   ]
  },
  {
   "cell_type": "code",
   "execution_count": 2,
   "metadata": {},
   "outputs": [
    {
     "name": "stdout",
     "output_type": "stream",
     "text": [
      "forest\n",
      "0.7205846950482844\n",
      "0.7208097695983755\n",
      "0.835201102655982\n"
     ]
    },
    {
     "data": {
      "text/plain": [
       "(340, 10)"
      ]
     },
     "execution_count": 2,
     "metadata": {},
     "output_type": "execute_result"
    }
   ],
   "source": [
    "df = pd.read_csv('kaggle\\insurance2.csv')\n",
    "df['sex_l'] = LabelEncoder().fit_transform(df['sex'])\n",
    "df['smoker_l'] = LabelEncoder().fit_transform(df['smoker'])\n",
    "df['region_l'] = LabelEncoder().fit_transform(df['region'])\n",
    "features = df.drop(['charges','sex','smoker','region'],axis = 1)\n",
    "target = df.charges\n",
    "lin_reg = LinearRegression()\n",
    "forest = RandomForestRegressor()\n",
    "tree = DecisionTreeRegressor()\n",
    "select_lineReg=cross_val_score(lin_reg,features,target,cv = 5).mean()\n",
    "select_forest=cross_val_score(forest,features,target,cv = 5).mean()\n",
    "select_tree=cross_val_score(tree,features,target,cv = 5).mean()\n",
    "selected_model= \"\"\n",
    "if (select_forest>=0.75):\n",
    "    selected_model=\"forest\"\n",
    "    \n",
    "if (select_lineReg>=0.75 and (select_forest<select_lineReg)):\n",
    "    selected_model=\"linReg\"\n",
    "    \n",
    "if (select_tree>=0.75 and (select_forest<select_lineReg) and (select_tree<select_forest)and(select_tree<select_lineReg)):\n",
    "    selected_model=\"tree\"\n",
    "       \n",
    "print(selected_model)\n",
    "print(cross_val_score(lin_reg,features,target,cv = 5).mean())\n",
    "print(cross_val_score(tree,features,target,cv = 5).mean())\n",
    "print(cross_val_score(forest,features,target,cv = 5).mean()) \n",
    "df.shape"
   ]
  },
  {
   "cell_type": "code",
   "execution_count": 3,
   "metadata": {},
   "outputs": [
    {
     "name": "stdout",
     "output_type": "stream",
     "text": [
      "forest\n",
      "0.7473537689709687\n",
      "0.6508339178938961\n",
      "0.8339834449817897\n"
     ]
    },
    {
     "data": {
      "text/plain": [
       "(500, 10)"
      ]
     },
     "execution_count": 3,
     "metadata": {},
     "output_type": "execute_result"
    }
   ],
   "source": [
    "df = pd.read_csv('kaggle\\insurance3.csv')\n",
    "df['sex_l'] = LabelEncoder().fit_transform(df['sex'])\n",
    "df['smoker_l'] = LabelEncoder().fit_transform(df['smoker'])\n",
    "df['region_l'] = LabelEncoder().fit_transform(df['region'])\n",
    "features = df.drop(['charges','sex','smoker','region'],axis = 1)\n",
    "target = df.charges\n",
    "lin_reg = LinearRegression()\n",
    "forest = RandomForestRegressor()\n",
    "tree = DecisionTreeRegressor()\n",
    "select_lineReg=cross_val_score(lin_reg,features,target,cv = 5).mean()\n",
    "select_forest=cross_val_score(forest,features,target,cv = 5).mean()\n",
    "select_tree=cross_val_score(tree,features,target,cv = 5).mean()\n",
    "selected_model= \"\"\n",
    "if (select_forest>=0.75):\n",
    "    selected_model=\"forest\"\n",
    "    \n",
    "if (select_lineReg>=0.75 and (select_forest<select_lineReg)):\n",
    "    selected_model=\"linReg\"\n",
    "    \n",
    "if (select_tree>=0.75 and (select_forest<select_lineReg) and (select_tree<select_forest)and(select_tree<select_lineReg)):\n",
    "    selected_model=\"tree\"\n",
    "       \n",
    "print(selected_model)\n",
    "print(cross_val_score(lin_reg,features,target,cv = 5).mean())\n",
    "print(cross_val_score(tree,features,target,cv = 5).mean())\n",
    "print(cross_val_score(forest,features,target,cv = 5).mean()) \n",
    "df.shape"
   ]
  }
 ],
 "metadata": {
  "kernelspec": {
   "display_name": "Python 3",
   "language": "python",
   "name": "python3"
  },
  "language_info": {
   "codemirror_mode": {
    "name": "ipython",
    "version": 3
   },
   "file_extension": ".py",
   "mimetype": "text/x-python",
   "name": "python",
   "nbconvert_exporter": "python",
   "pygments_lexer": "ipython3",
   "version": "3.9.13"
  }
 },
 "nbformat": 4,
 "nbformat_minor": 2
}
