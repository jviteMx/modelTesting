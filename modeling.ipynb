{
 "cells": [
  {
   "cell_type": "code",
   "execution_count": null,
   "metadata": {},
   "outputs": [],
   "source": [
    "import numpy as np\n",
    "import pandas as pd\n",
    "import seaborn as sn\n",
    "from sklearn.preprocessing import LabelEncoder\n",
    "from sklearn.linear_model import LinearRegression\n",
    "from sklearn.ensemble import RandomForestRegressor\n",
    "from sklearn.tree import DecisionTreeRegressor\n",
    "from sklearn.model_selection import train_test_split, cross_val_score\n",
    "from sklearn.decomposition import PCA\n",
    "from sklearn.preprocessing import StandardScaler\n",
    "from sklearn.model_selection import GridSearchCV\n",
    "import os\n",
    "\n",
    "count = 1\n",
    "for count in range(3):\n",
    "    df = pd.read_csv('https://compute.javiervite.com/modelingData/insurance{}.csv'.format(count))\n",
    "    df['sex_l'] = LabelEncoder().fit_transform(df['sex'])\n",
    "    df['smoker_l'] = LabelEncoder().fit_transform(df['smoker'])\n",
    "    df['region_l'] = LabelEncoder().fit_transform(df['region'])\n",
    "    features = df.drop(['charges','sex','smoker','region'],axis = 1)\n",
    "    target = df.charges\n",
    "    lin_reg = LinearRegression()\n",
    "    forest = RandomForestRegressor()\n",
    "    tree = DecisionTreeRegressor()\n",
    "    select_lineReg=cross_val_score(lin_reg,features,target,cv = 5).mean()\n",
    "    select_forest=cross_val_score(forest,features,target,cv = 5).mean()\n",
    "    select_tree=cross_val_score(tree,features,target,cv = 5).mean()\n",
    "    selected_model= \"\"\n",
    "    if (select_forest>=0.75):\n",
    "        print_model=\"forest\"\n",
    "        selected_model=forest\n",
    "        \n",
    "    if (select_lineReg>=0.75 and (select_forest<select_lineReg)):\n",
    "        print_model=\"linReg\"\n",
    "        selected_model=lin_reg\n",
    "        \n",
    "    if (select_tree>=0.75 and (select_forest<select_lineReg) and (select_tree<select_forest)and(select_tree<select_lineReg)):\n",
    "        print_model=\"tree\"\n",
    "        selected_model=tree\n",
    "        \n",
    "    print(print_model)\n",
    "    print(cross_val_score(lin_reg,features,target,cv = 5).mean())\n",
    "    print(cross_val_score(tree,features,target,cv = 5).mean())\n",
    "    print(cross_val_score(forest,features,target,cv = 5).mean())\n",
    "    df.shape\n",
    "    count= count+1\n",
    "    print(\"End of loop\")\n"
   ]
  },
  {
   "cell_type": "code",
   "execution_count": null,
   "metadata": {},
   "outputs": [],
   "source": [
    "clf = GridSearchCV(selected_model,\n",
    "                  {'n_estimators':[1,2,5,10,15,20,50],\n",
    "                  'criterion': [\"squared_error\", \"absolute_error\", \"friedman_mse\", \"poisson\"]},\n",
    "                  cv = 5)"
   ]
  },
  {
   "cell_type": "code",
   "execution_count": null,
   "metadata": {},
   "outputs": [],
   "source": [
    "clf.fit(features,target)\n"
   ]
  },
  {
   "cell_type": "code",
   "execution_count": null,
   "metadata": {},
   "outputs": [],
   "source": [
    "clf.best_params_"
   ]
  },
  {
   "cell_type": "code",
   "execution_count": null,
   "metadata": {},
   "outputs": [],
   "source": [
    "results = pd.DataFrame(clf.cv_results_)\n",
    "results[['mean_test_score','params']]"
   ]
  },
  {
   "cell_type": "code",
   "execution_count": null,
   "metadata": {},
   "outputs": [],
   "source": [
    "model = RandomForestRegressor(n_estimators=50,criterion='poisson')\n",
    "model.fit(features,target)"
   ]
  },
  {
   "cell_type": "code",
   "execution_count": null,
   "metadata": {},
   "outputs": [],
   "source": [
    "pred = [[19,25,0,1,0,3]]\n",
    "model.predict(pred)"
   ]
  }
 ],
 "metadata": {
  "kernelspec": {
   "display_name": "Python 3",
   "language": "python",
   "name": "python3"
  },
  "language_info": {
   "codemirror_mode": {
    "name": "ipython",
    "version": 3
   },
   "file_extension": ".py",
   "mimetype": "text/x-python",
   "name": "python",
   "nbconvert_exporter": "python",
   "pygments_lexer": "ipython3",
   "version": "3.9.13"
  }
 },
 "nbformat": 4,
 "nbformat_minor": 2
}
